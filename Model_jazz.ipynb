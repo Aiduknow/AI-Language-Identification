{
 "cells": [
  {
   "cell_type": "code",
   "execution_count": 2,
   "id": "9797e8f9",
   "metadata": {},
   "outputs": [],
   "source": [
    "import zipfile\n",
    "#Here we are trying to extract two zip files full of audios : \n",
    "#one used for the tests and the 2nd one is for the evalulation test\n",
    "\n",
    "with zipfile.ZipFile('Dataset.zip', 'r') as zip_ref:\n",
    "    zip_ref.extractall('./')\n",
    "    #'./' Allows us to extract our zip file and puts it in the folder right before, where Model_Jazz is already at.\n",
    "      \n",
    "with zipfile.ZipFile('Evaluation_Set.zip', 'r') as zip_ref:\n",
    "    zip_ref.extractall('./')"
   ]
  },
  {
   "cell_type": "code",
   "execution_count": 8,
   "id": "52227111",
   "metadata": {},
   "outputs": [
    {
     "name": "stdout",
     "output_type": "stream",
     "text": [
      "The duration of FR_00.wav in seconds: 5.494\n"
     ]
    }
   ],
   "source": [
    "import librosa\n",
    "\n",
    "# sr should be set to our recording sample rate (16k)\n",
    "# x,freq = librosa.load(\"[my_wav_files_directory]/0000.wav\",sr=16000)\n",
    "\n",
    "x,freq = librosa.load(\"Dataset/0000.wav\",sr=16000)\n",
    "\n",
    "# The load function will return a time series value (x) and\n",
    "#   the input sample rate (freq) which is 16000\n",
    "\n",
    "print(\"The duration of 0000.wav in seconds:\",len(x)/freq)\n",
    "\n",
    "\n",
    "#This part of our code returns : the duration of our 1st sound file (0000.wav) and it lasts : 5.494s"
   ]
  },
  {
   "cell_type": "code",
   "execution_count": 9,
   "id": "a4930ee6",
   "metadata": {},
   "outputs": [
    {
     "name": "stdout",
     "output_type": "stream",
     "text": [
      "(40, 172)\n"
     ]
    }
   ],
   "source": [
    "#This function will return n_mfcc number of MFCC per\n",
    "#a window of time in audio time series\n",
    "\n",
    "x_mfcc=librosa.feature.mfcc(x,sr=freq, n_mfcc=40)\n",
    "print(x_mfcc.shape)\n",
    "\n",
    "# x_mfcc is an array with 40 values for a window of time\n",
    "# The len(x_mfcc) is a proportion of wav file duration (5-6 seconds)"
   ]
  },
  {
   "cell_type": "code",
   "execution_count": 7,
   "id": "64564d36",
   "metadata": {},
   "outputs": [],
   "source": [
    "import numpy as np\n",
    "\n",
    "def feature_extractor_1(test):\n",
    "    \n",
    "    #We use librosa's library in order to load the audio files\n",
    "    \n",
    "    x,freq = librosa.load(test,sr=16000)\n",
    "    \n",
    "    # we define the number of MFCCS we want to extract here it's : 20 MFCCs\n",
    "    mfcc=librosa.feature.mfcc(x,sr=freq,n_mfcc=20)\n",
    "    \n",
    "    #We calculate the mean and variance of each MFFC \n",
    "    \n",
    "    mean_mfccs=np.mean(mfcc,axis=1)\n",
    "    var_mfccs=np.var(mfcc,axis=1)\n",
    "    \n",
    "    #return mean and variance as the audio file feature \n",
    "    \n",
    "    return list(mean_mfccs)+list(var_mfccs)"
   ]
  },
  {
   "cell_type": "code",
   "execution_count": 8,
   "id": "7e3ab585",
   "metadata": {},
   "outputs": [
    {
     "data": {
      "text/plain": [
       "[-258.6834,\n",
       " 67.40751,\n",
       " -28.823479,\n",
       " -5.7446127,\n",
       " -19.878378,\n",
       " -2.3387473,\n",
       " -10.67504,\n",
       " -12.761739,\n",
       " -6.636203,\n",
       " -3.2882953,\n",
       " -6.5215135,\n",
       " 6.566639,\n",
       " 4.260296,\n",
       " 11.507818,\n",
       " -2.4033027,\n",
       " 5.3996015,\n",
       " -7.9286613,\n",
       " -1.8552961,\n",
       " -5.5140543,\n",
       " 0.70949876,\n",
       " 16593.23,\n",
       " 891.0893,\n",
       " 852.84503,\n",
       " 654.8466,\n",
       " 549.3666,\n",
       " 315.10284,\n",
       " 137.62134,\n",
       " 128.09657,\n",
       " 221.30846,\n",
       " 142.26477,\n",
       " 100.25705,\n",
       " 86.99765,\n",
       " 105.27958,\n",
       " 75.27547,\n",
       " 76.57926,\n",
       " 117.44688,\n",
       " 104.93364,\n",
       " 85.19154,\n",
       " 123.76393,\n",
       " 104.782616]"
      ]
     },
     "execution_count": 8,
     "metadata": {},
     "output_type": "execute_result"
    }
   ],
   "source": [
    "feature_extractor_1(\"Dataset/0000.wav\")"
   ]
  }
 ],
 "metadata": {
  "kernelspec": {
   "display_name": "Python 3",
   "language": "python",
   "name": "python3"
  },
  "language_info": {
   "codemirror_mode": {
    "name": "ipython",
    "version": 3
   },
   "file_extension": ".py",
   "mimetype": "text/x-python",
   "name": "python",
   "nbconvert_exporter": "python",
   "pygments_lexer": "ipython3",
   "version": "3.8.8"
  }
 },
 "nbformat": 4,
 "nbformat_minor": 5
}
